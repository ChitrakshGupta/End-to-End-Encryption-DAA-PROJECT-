{
 "cells": [
  {
   "cell_type": "markdown",
   "id": "40733c1d",
   "metadata": {},
   "source": [
    "# Design and Analysis of Algorithm "
   ]
  },
 
  {
   "cell_type": "code",
   "execution_count": null,
   "id": "4d56279f",
   "metadata": {},
   "outputs": [],
   "source": []
  },
  {
   "cell_type": "code",
   "execution_count": 1,
   "id": "c36cd61c",
   "metadata": {},
   "outputs": [],
   "source": [
    "import random"
   ]
  },
  {
   "cell_type": "code",
   "execution_count": 2,
   "id": "e4720837",
   "metadata": {},
   "outputs": [],
   "source": [
    "import string"
   ]
  },
  {
   "cell_type": "code",
   "execution_count": 3,
   "id": "682736b6",
   "metadata": {},
   "outputs": [],
   "source": [
    "character_array=string.punctuation+string.digits+string.ascii_letters+\" \""
   ]
  },
  {
   "cell_type": "code",
   "execution_count": 4,
   "id": "16925237",
   "metadata": {},
   "outputs": [
    {
     "data": {
      "text/plain": [
       "'!\"#$%&\\'()*+,-./:;<=>?@[\\\\]^_`{|}~0123456789abcdefghijklmnopqrstuvwxyzABCDEFGHIJKLMNOPQRSTUVWXYZ '"
      ]
     },
     "execution_count": 4,
     "metadata": {},
     "output_type": "execute_result"
    }
   ],
   "source": [
    "character_array"
   ]
  },
  {
   "cell_type": "code",
   "execution_count": 5,
   "id": "3af50da9",
   "metadata": {},
   "outputs": [],
   "source": [
    "character_array=list(character_array)\n",
    "shuffleArray=character_array.copy()"
   ]
  },
  {
   "cell_type": "code",
   "execution_count": 6,
   "id": "35a100f2",
   "metadata": {},
   "outputs": [
    {
     "name": "stdout",
     "output_type": "stream",
     "text": [
      "character_array: ['!', '\"', '#', '$', '%', '&', \"'\", '(', ')', '*', '+', ',', '-', '.', '/', ':', ';', '<', '=', '>', '?', '@', '[', '\\\\', ']', '^', '_', '`', '{', '|', '}', '~', '0', '1', '2', '3', '4', '5', '6', '7', '8', '9', 'a', 'b', 'c', 'd', 'e', 'f', 'g', 'h', 'i', 'j', 'k', 'l', 'm', 'n', 'o', 'p', 'q', 'r', 's', 't', 'u', 'v', 'w', 'x', 'y', 'z', 'A', 'B', 'C', 'D', 'E', 'F', 'G', 'H', 'I', 'J', 'K', 'L', 'M', 'N', 'O', 'P', 'Q', 'R', 'S', 'T', 'U', 'V', 'W', 'X', 'Y', 'Z', ' ']\n",
      "shuffleArray: ['!', '\"', '#', '$', '%', '&', \"'\", '(', ')', '*', '+', ',', '-', '.', '/', ':', ';', '<', '=', '>', '?', '@', '[', '\\\\', ']', '^', '_', '`', '{', '|', '}', '~', '0', '1', '2', '3', '4', '5', '6', '7', '8', '9', 'a', 'b', 'c', 'd', 'e', 'f', 'g', 'h', 'i', 'j', 'k', 'l', 'm', 'n', 'o', 'p', 'q', 'r', 's', 't', 'u', 'v', 'w', 'x', 'y', 'z', 'A', 'B', 'C', 'D', 'E', 'F', 'G', 'H', 'I', 'J', 'K', 'L', 'M', 'N', 'O', 'P', 'Q', 'R', 'S', 'T', 'U', 'V', 'W', 'X', 'Y', 'Z', ' ']\n"
     ]
    }
   ],
   "source": [
    "print(f\"character_array: {character_array}\")\n",
    "print(f\"shuffleArray: {shuffleArray}\")"
   ]
  },
  {
   "cell_type": "code",
   "execution_count": 7,
   "id": "cb20206e",
   "metadata": {},
   "outputs": [],
   "source": [
    "random.shuffle(shuffleArray)"
   ]
  },
  {
   "cell_type": "code",
   "execution_count": 8,
   "id": "e9e99ebb",
   "metadata": {},
   "outputs": [
    {
     "name": "stdout",
     "output_type": "stream",
     "text": [
      "shuffleArray: ['X', 'c', '!', '3', '4', '.', 'W', 'l', ']', 'm', 'C', 'A', 'O', 'y', 'J', ';', '=', '#', 'w', 'V', 'f', '>', 'D', 'Y', '$', 's', '~', \"'\", '2', 'H', '*', 't', '@', '&', '8', ':', 'I', 'G', 'g', 'e', 'U', 'p', 'P', '<', 'o', 'b', ' ', '^', '\\\\', 'a', 'E', ')', 'x', 'q', '(', '}', 'n', '{', '/', '0', 'z', 'i', ',', '_', '7', '5', 'M', 'k', '9', '[', '?', 'K', 'L', '6', 'B', '|', '%', 'd', 'r', '-', 'v', '\"', 'Z', 'j', 'F', 'T', 'u', 'h', '`', 'Q', '+', '1', 'S', 'N', 'R']\n"
     ]
    }
   ],
   "source": [
    "print(f\"shuffleArray: {shuffleArray}\")"
   ]
  },
  {
   "cell_type": "code",
   "execution_count": 9,
   "id": "4302d94b",
   "metadata": {},
   "outputs": [
    {
     "name": "stdout",
     "output_type": "stream",
     "text": [
      "Enter message to encrypt: hello\n",
      "a qqn\n"
     ]
    }
   ],
   "source": [
    "text=input(\"Enter message to encrypt: \")\n",
    "encryted_text=\"\"\n",
    "for letter in text:\n",
    "    index=character_array.index(letter)\n",
    "    encryted_text +=shuffleArray[index]\n",
    "print(encryted_text)"
   ]
  },
  {
   "cell_type": "code",
   "execution_count": 10,
   "id": "f04c5483",
   "metadata": {
    "scrolled": true
   },
   "outputs": [
    {
     "name": "stdout",
     "output_type": "stream",
     "text": [
      "Enter text to decrypt: a qqn\n",
      "hello\n"
     ]
    }
   ],
   "source": [
    "decryt_text=\"\"\n",
    "for letter in input(\"Enter text to decrypt: \"):\n",
    "    index=shuffleArray.index(letter)\n",
    "    decryt_text +=character_array[index]\n",
    "print(decryt_text)"
   ]
  },
  {
   "cell_type": "code",
   "execution_count": 13,
   "id": "f9f6d381",
   "metadata": {},
   "outputs": [
    {
     "name": "stdout",
     "output_type": "stream",
     "text": [
      "Character Array: ['!', '\"', '#', '$', '%', '&', \"'\", '(', ')', '*', '+', ',', '-', '.', '/', ':', ';', '<', '=', '>', '?', '@', '[', '\\\\', ']', '^', '_', '`', '{', '|', '}', '~', '0', '1', '2', '3', '4', '5', '6', '7', '8', '9', 'a', 'b', 'c', 'd', 'e', 'f', 'g', 'h', 'i', 'j', 'k', 'l', 'm', 'n', 'o', 'p', 'q', 'r', 's', 't', 'u', 'v', 'w', 'x', 'y', 'z', 'A', 'B', 'C', 'D', 'E', 'F', 'G', 'H', 'I', 'J', 'K', 'L', 'M', 'N', 'O', 'P', 'Q', 'R', 'S', 'T', 'U', 'V', 'W', 'X', 'Y', 'Z', ' ']\n",
      "Shuffle Array: ['9', '$', '{', 'S', '-', '2', ';', 'k', 'A', ':', 'v', 'q', '?', '<', '%', 'f', '+', 'Y', 'V', ' ', 'P', 'e', 'b', '(', 'y', '7', '3', '|', '.', 'U', 'T', 'H', ']', '\"', 'M', 'j', '/', '0', '4', 'u', '1', 't', 'd', 'a', '=', '\\\\', \"'\", 'R', 'G', 'h', 'W', 'x', '_', ',', 'p', 'w', '&', 'm', 'C', '^', '~', 'r', 'Z', ')', 'O', 'o', '[', 'F', 'B', 'l', 'N', 'I', '`', '*', 'i', 'g', 'Q', '#', 'D', '@', '8', '5', '>', 'J', '}', 'L', 'E', 'n', '!', 'z', 'K', 'X', '6', 'c', 's']\n",
      "\n",
      "Choose an option:\n",
      "1. Encrypt a message\n",
      "2. Decrypt a message\n",
      "3. Exit\n",
      "Enter option number (1-3): 3\n",
      "Goodbye!\n"
     ]
    }
   ],
   "source": [
    "import random\n",
    "import string\n",
    "\n",
    "valid_chars = string.punctuation + string.digits + string.ascii_letters + \" \"\n",
    "\n",
    "char_array = list(valid_chars)\n",
    "shuffle_array = char_array.copy()\n",
    "\n",
    "random.shuffle(shuffle_array)\n",
    "\n",
    "print(f\"Character Array: {char_array}\")\n",
    "print(f\"Shuffle Array: {shuffle_array}\")\n",
    "\n",
    "while True:\n",
    "    print(\"\\nChoose an option:\")\n",
    "    print(\"1. Encrypt a message\")\n",
    "    print(\"2. Decrypt a message\")\n",
    "    print(\"3. Exit\")\n",
    "    option = input(\"Enter option number (1-3): \")\n",
    "\n",
    "    if option == \"1\":\n",
    "        text = input(\"Enter message to encrypt: \")\n",
    "        encrypted_text = \"\"\n",
    "        for letter in text:\n",
    "            if letter not in valid_chars:\n",
    "                print(\"Invalid character detected!\")\n",
    "                break\n",
    "            index = char_array.index(letter)\n",
    "            encrypted_text += shuffle_array[index]\n",
    "        else:\n",
    "            print(\"Encrypted text:\", encrypted_text)\n",
    "            save_option = input(\"Do you want to save the encrypted message to a file? (y/n): \")\n",
    "            if save_option.lower() == \"y\":\n",
    "                filename = input(\"Enter file name: \")\n",
    "                with open(filename, \"w\") as f:\n",
    "                    f.write(encrypted_text)\n",
    "                    print(\"Encrypted message saved to file.\")\n",
    "\n",
    "    elif option == \"2\":\n",
    "        text = input(\"Enter message to decrypt: \")\n",
    "        decrypted_text = \"\"\n",
    "        for letter in text:\n",
    "            if letter not in valid_chars:\n",
    "                print(\"Invalid character detected!\")\n",
    "                break\n",
    "            index = shuffle_array.index(letter)\n",
    "            decrypted_text += char_array[index]\n",
    "        else:\n",
    "            print(\"Decrypted text:\", decrypted_text)\n",
    "            save_option = input(\"Do you want to save the decrypted message to a file? (y/n): \")\n",
    "            if save_option.lower() == \"y\":\n",
    "                filename = input(\"Enter file name: \")\n",
    "                with open(filename, \"w\") as f:\n",
    "                    f.write(decrypted_text)\n",
    "                    print(\"Decrypted message saved to file.\")\n",
    "\n",
    "    elif option == \"3\":\n",
    "        print(\"Goodbye!\")\n",
    "        break\n",
    "\n",
    "    else:\n",
    "        print(\"Invalid option. Please try again.\")"
   ]
  },
  {
   "cell_type": "code",
   "execution_count": null,
   "id": "4d3cd1bd",
   "metadata": {},
   "outputs": [],
   "source": []
  }
 ],
 "metadata": {
  "kernelspec": {
   "display_name": "Python 3 (ipykernel)",
   "language": "python",
   "name": "python3"
  },
  "language_info": {
   "codemirror_mode": {
    "name": "ipython",
    "version": 3
   },
   "file_extension": ".py",
   "mimetype": "text/x-python",
   "name": "python",
   "nbconvert_exporter": "python",
   "pygments_lexer": "ipython3",
   "version": "3.9.13"
  }
 },
 "nbformat": 4,
 "nbformat_minor": 5
}
